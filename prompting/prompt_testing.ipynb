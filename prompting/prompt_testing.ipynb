{
  "nbformat": 4,
  "nbformat_minor": 0,
  "metadata": {
    "colab": {
      "provenance": [],
      "gpuType": "T4",
      "machine_shape": "hm"
    },
    "kernelspec": {
      "name": "python3",
      "display_name": "Python 3"
    },
    "language_info": {
      "name": "python"
    },
    "accelerator": "GPU",
    "widgets": {
      "application/vnd.jupyter.widget-state+json": {
        "9d989172bf784706808dcf32e21f0c13": {
          "model_module": "@jupyter-widgets/controls",
          "model_name": "HBoxModel",
          "model_module_version": "1.5.0",
          "state": {
            "_dom_classes": [],
            "_model_module": "@jupyter-widgets/controls",
            "_model_module_version": "1.5.0",
            "_model_name": "HBoxModel",
            "_view_count": null,
            "_view_module": "@jupyter-widgets/controls",
            "_view_module_version": "1.5.0",
            "_view_name": "HBoxView",
            "box_style": "",
            "children": [
              "IPY_MODEL_d356499385b145ce86c42fc9f3fbc5e5",
              "IPY_MODEL_97049b0e32964b9b9895a806be9b6b54",
              "IPY_MODEL_08fd812ac8f84bc4ba7ab7b67d1c38d7"
            ],
            "layout": "IPY_MODEL_79c0239150f34df5b5cd89658f0775a7"
          }
        },
        "d356499385b145ce86c42fc9f3fbc5e5": {
          "model_module": "@jupyter-widgets/controls",
          "model_name": "HTMLModel",
          "model_module_version": "1.5.0",
          "state": {
            "_dom_classes": [],
            "_model_module": "@jupyter-widgets/controls",
            "_model_module_version": "1.5.0",
            "_model_name": "HTMLModel",
            "_view_count": null,
            "_view_module": "@jupyter-widgets/controls",
            "_view_module_version": "1.5.0",
            "_view_name": "HTMLView",
            "description": "",
            "description_tooltip": null,
            "layout": "IPY_MODEL_514d680c50ff4ef89b654fe7d833c92a",
            "placeholder": "​",
            "style": "IPY_MODEL_a3c93f5d09094912b0cefe19e1b77f4b",
            "value": "Loading checkpoint shards: 100%"
          }
        },
        "97049b0e32964b9b9895a806be9b6b54": {
          "model_module": "@jupyter-widgets/controls",
          "model_name": "FloatProgressModel",
          "model_module_version": "1.5.0",
          "state": {
            "_dom_classes": [],
            "_model_module": "@jupyter-widgets/controls",
            "_model_module_version": "1.5.0",
            "_model_name": "FloatProgressModel",
            "_view_count": null,
            "_view_module": "@jupyter-widgets/controls",
            "_view_module_version": "1.5.0",
            "_view_name": "ProgressView",
            "bar_style": "success",
            "description": "",
            "description_tooltip": null,
            "layout": "IPY_MODEL_04b3337e9a3a4c1daa33325f618b08ab",
            "max": 2,
            "min": 0,
            "orientation": "horizontal",
            "style": "IPY_MODEL_67ceb32ebcf94fb19c85e69f073562c0",
            "value": 2
          }
        },
        "08fd812ac8f84bc4ba7ab7b67d1c38d7": {
          "model_module": "@jupyter-widgets/controls",
          "model_name": "HTMLModel",
          "model_module_version": "1.5.0",
          "state": {
            "_dom_classes": [],
            "_model_module": "@jupyter-widgets/controls",
            "_model_module_version": "1.5.0",
            "_model_name": "HTMLModel",
            "_view_count": null,
            "_view_module": "@jupyter-widgets/controls",
            "_view_module_version": "1.5.0",
            "_view_name": "HTMLView",
            "description": "",
            "description_tooltip": null,
            "layout": "IPY_MODEL_d95554191e6d4f06a40d36eb68308840",
            "placeholder": "​",
            "style": "IPY_MODEL_2871ff8f691e483a9bdca094071228f7",
            "value": " 2/2 [00:01&lt;00:00,  2.07it/s]"
          }
        },
        "79c0239150f34df5b5cd89658f0775a7": {
          "model_module": "@jupyter-widgets/base",
          "model_name": "LayoutModel",
          "model_module_version": "1.2.0",
          "state": {
            "_model_module": "@jupyter-widgets/base",
            "_model_module_version": "1.2.0",
            "_model_name": "LayoutModel",
            "_view_count": null,
            "_view_module": "@jupyter-widgets/base",
            "_view_module_version": "1.2.0",
            "_view_name": "LayoutView",
            "align_content": null,
            "align_items": null,
            "align_self": null,
            "border": null,
            "bottom": null,
            "display": null,
            "flex": null,
            "flex_flow": null,
            "grid_area": null,
            "grid_auto_columns": null,
            "grid_auto_flow": null,
            "grid_auto_rows": null,
            "grid_column": null,
            "grid_gap": null,
            "grid_row": null,
            "grid_template_areas": null,
            "grid_template_columns": null,
            "grid_template_rows": null,
            "height": null,
            "justify_content": null,
            "justify_items": null,
            "left": null,
            "margin": null,
            "max_height": null,
            "max_width": null,
            "min_height": null,
            "min_width": null,
            "object_fit": null,
            "object_position": null,
            "order": null,
            "overflow": null,
            "overflow_x": null,
            "overflow_y": null,
            "padding": null,
            "right": null,
            "top": null,
            "visibility": null,
            "width": null
          }
        },
        "514d680c50ff4ef89b654fe7d833c92a": {
          "model_module": "@jupyter-widgets/base",
          "model_name": "LayoutModel",
          "model_module_version": "1.2.0",
          "state": {
            "_model_module": "@jupyter-widgets/base",
            "_model_module_version": "1.2.0",
            "_model_name": "LayoutModel",
            "_view_count": null,
            "_view_module": "@jupyter-widgets/base",
            "_view_module_version": "1.2.0",
            "_view_name": "LayoutView",
            "align_content": null,
            "align_items": null,
            "align_self": null,
            "border": null,
            "bottom": null,
            "display": null,
            "flex": null,
            "flex_flow": null,
            "grid_area": null,
            "grid_auto_columns": null,
            "grid_auto_flow": null,
            "grid_auto_rows": null,
            "grid_column": null,
            "grid_gap": null,
            "grid_row": null,
            "grid_template_areas": null,
            "grid_template_columns": null,
            "grid_template_rows": null,
            "height": null,
            "justify_content": null,
            "justify_items": null,
            "left": null,
            "margin": null,
            "max_height": null,
            "max_width": null,
            "min_height": null,
            "min_width": null,
            "object_fit": null,
            "object_position": null,
            "order": null,
            "overflow": null,
            "overflow_x": null,
            "overflow_y": null,
            "padding": null,
            "right": null,
            "top": null,
            "visibility": null,
            "width": null
          }
        },
        "a3c93f5d09094912b0cefe19e1b77f4b": {
          "model_module": "@jupyter-widgets/controls",
          "model_name": "DescriptionStyleModel",
          "model_module_version": "1.5.0",
          "state": {
            "_model_module": "@jupyter-widgets/controls",
            "_model_module_version": "1.5.0",
            "_model_name": "DescriptionStyleModel",
            "_view_count": null,
            "_view_module": "@jupyter-widgets/base",
            "_view_module_version": "1.2.0",
            "_view_name": "StyleView",
            "description_width": ""
          }
        },
        "04b3337e9a3a4c1daa33325f618b08ab": {
          "model_module": "@jupyter-widgets/base",
          "model_name": "LayoutModel",
          "model_module_version": "1.2.0",
          "state": {
            "_model_module": "@jupyter-widgets/base",
            "_model_module_version": "1.2.0",
            "_model_name": "LayoutModel",
            "_view_count": null,
            "_view_module": "@jupyter-widgets/base",
            "_view_module_version": "1.2.0",
            "_view_name": "LayoutView",
            "align_content": null,
            "align_items": null,
            "align_self": null,
            "border": null,
            "bottom": null,
            "display": null,
            "flex": null,
            "flex_flow": null,
            "grid_area": null,
            "grid_auto_columns": null,
            "grid_auto_flow": null,
            "grid_auto_rows": null,
            "grid_column": null,
            "grid_gap": null,
            "grid_row": null,
            "grid_template_areas": null,
            "grid_template_columns": null,
            "grid_template_rows": null,
            "height": null,
            "justify_content": null,
            "justify_items": null,
            "left": null,
            "margin": null,
            "max_height": null,
            "max_width": null,
            "min_height": null,
            "min_width": null,
            "object_fit": null,
            "object_position": null,
            "order": null,
            "overflow": null,
            "overflow_x": null,
            "overflow_y": null,
            "padding": null,
            "right": null,
            "top": null,
            "visibility": null,
            "width": null
          }
        },
        "67ceb32ebcf94fb19c85e69f073562c0": {
          "model_module": "@jupyter-widgets/controls",
          "model_name": "ProgressStyleModel",
          "model_module_version": "1.5.0",
          "state": {
            "_model_module": "@jupyter-widgets/controls",
            "_model_module_version": "1.5.0",
            "_model_name": "ProgressStyleModel",
            "_view_count": null,
            "_view_module": "@jupyter-widgets/base",
            "_view_module_version": "1.2.0",
            "_view_name": "StyleView",
            "bar_color": null,
            "description_width": ""
          }
        },
        "d95554191e6d4f06a40d36eb68308840": {
          "model_module": "@jupyter-widgets/base",
          "model_name": "LayoutModel",
          "model_module_version": "1.2.0",
          "state": {
            "_model_module": "@jupyter-widgets/base",
            "_model_module_version": "1.2.0",
            "_model_name": "LayoutModel",
            "_view_count": null,
            "_view_module": "@jupyter-widgets/base",
            "_view_module_version": "1.2.0",
            "_view_name": "LayoutView",
            "align_content": null,
            "align_items": null,
            "align_self": null,
            "border": null,
            "bottom": null,
            "display": null,
            "flex": null,
            "flex_flow": null,
            "grid_area": null,
            "grid_auto_columns": null,
            "grid_auto_flow": null,
            "grid_auto_rows": null,
            "grid_column": null,
            "grid_gap": null,
            "grid_row": null,
            "grid_template_areas": null,
            "grid_template_columns": null,
            "grid_template_rows": null,
            "height": null,
            "justify_content": null,
            "justify_items": null,
            "left": null,
            "margin": null,
            "max_height": null,
            "max_width": null,
            "min_height": null,
            "min_width": null,
            "object_fit": null,
            "object_position": null,
            "order": null,
            "overflow": null,
            "overflow_x": null,
            "overflow_y": null,
            "padding": null,
            "right": null,
            "top": null,
            "visibility": null,
            "width": null
          }
        },
        "2871ff8f691e483a9bdca094071228f7": {
          "model_module": "@jupyter-widgets/controls",
          "model_name": "DescriptionStyleModel",
          "model_module_version": "1.5.0",
          "state": {
            "_model_module": "@jupyter-widgets/controls",
            "_model_module_version": "1.5.0",
            "_model_name": "DescriptionStyleModel",
            "_view_count": null,
            "_view_module": "@jupyter-widgets/base",
            "_view_module_version": "1.2.0",
            "_view_name": "StyleView",
            "description_width": ""
          }
        }
      }
    }
  },
  "cells": [
    {
      "cell_type": "markdown",
      "source": [
        "# Imports and Downloads"
      ],
      "metadata": {
        "id": "2W2UYBNLFxtv"
      }
    },
    {
      "cell_type": "code",
      "source": [
        "!pip install regex"
      ],
      "metadata": {
        "id": "7LKBPfPLFwrs",
        "colab": {
          "base_uri": "https://localhost:8080/"
        },
        "outputId": "a8e52de3-b87b-47f3-fe7c-67d6ec8b8c7d"
      },
      "execution_count": 1,
      "outputs": [
        {
          "output_type": "stream",
          "name": "stdout",
          "text": [
            "Requirement already satisfied: regex in /usr/local/lib/python3.10/dist-packages (2024.11.6)\n"
          ]
        }
      ]
    },
    {
      "cell_type": "code",
      "source": [
        "from google.colab import drive\n",
        "drive.mount('/content/drive')"
      ],
      "metadata": {
        "id": "VuHFGWaFF3tO",
        "colab": {
          "base_uri": "https://localhost:8080/"
        },
        "outputId": "e2f82381-39f5-4780-a6a0-d52dc003486d"
      },
      "execution_count": 2,
      "outputs": [
        {
          "output_type": "stream",
          "name": "stdout",
          "text": [
            "Mounted at /content/drive\n"
          ]
        }
      ]
    },
    {
      "cell_type": "code",
      "source": [
        "import os\n",
        "import sys\n",
        "from pathlib import Path\n",
        "import json\n",
        "import pandas as pd\n",
        "import numpy as np\n",
        "from transformers import pipeline\n",
        "import torch\n",
        "import regex\n",
        "import re\n",
        "\n",
        "#PATH = '/content/drive/MyDrive/habrok'\n",
        "ROOT_FOLDER = Path('/content/drive/MyDrive/habrok')\n",
        "sys.path.append(str(ROOT_FOLDER))"
      ],
      "metadata": {
        "id": "-BfD8OoZF78s"
      },
      "execution_count": 70,
      "outputs": []
    },
    {
      "cell_type": "code",
      "source": [
        "from data_tools.dataset_loaders import load_dataset_classification, load_span_annotations_from_json, load_texts_and_ids_from_json\n",
        "from settings import TRAIN_DATASET_EN, TEST_DATASET_EN\n",
        "from data_tools.span_data_definitions import SPAN_LABELS_OFFICIAL, NONE_LABEL\n",
        "from data_tools.spacy_utils import SpacyURLTokenizer, create_spacy_model"
      ],
      "metadata": {
        "id": "ONfAOwveF8wx"
      },
      "execution_count": 4,
      "outputs": []
    },
    {
      "cell_type": "code",
      "source": [
        "from transformers import AutoTokenizer, AutoModelForCausalLM\n",
        "import torch\n",
        "import json\n",
        "from transformers import LlamaForCausalLM, LlamaTokenizer\n",
        "from evaluation.oppositional_evaluator import evaluate_task1"
      ],
      "metadata": {
        "id": "s3e3LlWOGCl3"
      },
      "execution_count": 18,
      "outputs": []
    },
    {
      "cell_type": "code",
      "source": [
        "from google.colab import userdata\n",
        "hf_token = userdata.get('hf_token')"
      ],
      "metadata": {
        "id": "QtGqDa9OGDFB"
      },
      "execution_count": 6,
      "outputs": []
    },
    {
      "cell_type": "code",
      "source": [
        "device = torch.device(\"cuda\" if torch.cuda.is_available() else \"cpu\")"
      ],
      "metadata": {
        "id": "m_s2WB_6NvKn"
      },
      "execution_count": 28,
      "outputs": []
    },
    {
      "cell_type": "code",
      "source": [
        "model_name = \"meta-llama/Llama-2-7b-chat-hf\"\n",
        "tokenizer = AutoTokenizer.from_pretrained(model_name, load_in_8bit=True, use_auth_token=hf_token)\n",
        "model = AutoModelForCausalLM.from_pretrained(model_name, device_map=\"auto\", torch_dtype=torch.float16, use_auth_token=hf_token)"
      ],
      "metadata": {
        "id": "222JFbd_GFAw",
        "colab": {
          "base_uri": "https://localhost:8080/",
          "height": 156,
          "referenced_widgets": [
            "9d989172bf784706808dcf32e21f0c13",
            "d356499385b145ce86c42fc9f3fbc5e5",
            "97049b0e32964b9b9895a806be9b6b54",
            "08fd812ac8f84bc4ba7ab7b67d1c38d7",
            "79c0239150f34df5b5cd89658f0775a7",
            "514d680c50ff4ef89b654fe7d833c92a",
            "a3c93f5d09094912b0cefe19e1b77f4b",
            "04b3337e9a3a4c1daa33325f618b08ab",
            "67ceb32ebcf94fb19c85e69f073562c0",
            "d95554191e6d4f06a40d36eb68308840",
            "2871ff8f691e483a9bdca094071228f7"
          ]
        },
        "outputId": "aaf93aa6-9de9-4198-900c-dd13a8440cf9"
      },
      "execution_count": 24,
      "outputs": [
        {
          "output_type": "stream",
          "name": "stderr",
          "text": [
            "/usr/local/lib/python3.10/dist-packages/transformers/models/auto/tokenization_auto.py:810: FutureWarning: The `use_auth_token` argument is deprecated and will be removed in v5 of Transformers. Please use `token` instead.\n",
            "  warnings.warn(\n",
            "/usr/local/lib/python3.10/dist-packages/transformers/models/auto/auto_factory.py:471: FutureWarning: The `use_auth_token` argument is deprecated and will be removed in v5 of Transformers. Please use `token` instead.\n",
            "  warnings.warn(\n"
          ]
        },
        {
          "output_type": "display_data",
          "data": {
            "text/plain": [
              "Loading checkpoint shards:   0%|          | 0/2 [00:00<?, ?it/s]"
            ],
            "application/vnd.jupyter.widget-view+json": {
              "version_major": 2,
              "version_minor": 0,
              "model_id": "9d989172bf784706808dcf32e21f0c13"
            }
          },
          "metadata": {}
        },
        {
          "output_type": "stream",
          "name": "stderr",
          "text": [
            "WARNING:accelerate.big_modeling:Some parameters are on the meta device because they were offloaded to the cpu.\n"
          ]
        }
      ]
    },
    {
      "cell_type": "markdown",
      "source": [
        "# Prompting\n",
        "Run sequentially"
      ],
      "metadata": {
        "id": "MNyZASBaMOpu"
      }
    },
    {
      "cell_type": "markdown",
      "source": [
        "## Test"
      ],
      "metadata": {
        "id": "Xnt90W_TveBy"
      }
    },
    {
      "cell_type": "code",
      "source": [
        "'''T: The Taliban Has No Plan to Stop Coronavirus – and No One Is Asking It for One , Cat: CRITICAL\n",
        "T: WATCH : Jen Psaki Mocks Free At - Home COVID Testing , Already the Norm in UK , Cat: CRITICAL\n",
        "T: Jeff Bezos Takes Private Jet to COP26 for Climate Change Chat with Prince Charles , Cat: CRITICAL\n",
        "T: San Jose Mayor : W.H. Is Wrong That Pandemic Is Root Cause of Smash and Grab Crime , Cat: CRITICAL\n",
        "T: A man in New Zealand was SHOT - yet his death was written down as COVID - 19 ! ! ! , Cat: CRITICAL\n",
        "T: Rand Paul ' Stars ' in Chinese Rap Video Accusing U.S. of Starting Coronavirus Pandemic , Cat: CONSPIRACY\n",
        "T: Why have so many African leaders died since the beginning of the pseudo - pandemic \" ? ? ? , Cat: CONSPIRACY\n",
        "T: The Deepstate Alliances . This is just one , but it is one that led to [ many ] others . [ Mooooooon ] , Cat: CONSPIRACY\n",
        "T: Notice what the eagle has in it 's talons . The tentacles of an Octopus . Symbolism for the Deepstate in everything . , Cat: CONSPIRACY\n",
        "T: Exclusive — Jim Breuer on Refusing Vaccine Mandate Comedy Clubs : ' I Will Never ' Be ' Controlled ' by ' Evil Agenda ' , Cat: CONSPIRACY'''\n",
        "\n",
        "# shortest 5 conspiracy 5 critical"
      ],
      "metadata": {
        "colab": {
          "base_uri": "https://localhost:8080/",
          "height": 140
        },
        "id": "CsC9oP4OUgCs",
        "outputId": "16332f33-adab-4b30-85a8-93ca59cdef2d"
      },
      "execution_count": 61,
      "outputs": [
        {
          "output_type": "execute_result",
          "data": {
            "text/plain": [
              "'T: The Taliban Has No Plan to Stop Coronavirus – and No One Is Asking It for One , Cat: CRITICAL\\nT: WATCH : Jen Psaki Mocks Free At - Home COVID Testing , Already the Norm in UK , Cat: CRITICAL\\nT: Jeff Bezos Takes Private Jet to COP26 for Climate Change Chat with Prince Charles , Cat: CRITICAL\\nT: San Jose Mayor : W.H. Is Wrong That Pandemic Is Root Cause of Smash and Grab Crime , Cat: CRITICAL\\nT: A man in New Zealand was SHOT - yet his death was written down as COVID - 19 ! ! ! , Cat: CRITICAL\\nT: Rand Paul \\' Stars \\' in Chinese Rap Video Accusing U.S. of Starting Coronavirus Pandemic , Cat: CONSPIRACY\\nT: Why have so many African leaders died since the beginning of the pseudo - pandemic \" ? ? ? , Cat: CONSPIRACY\\nT: The Deepstate Alliances . This is just one , but it is one that led to [ many ] others . [ Mooooooon ] , Cat: CONSPIRACY\\nT: Notice what the eagle has in it \\'s talons . The tentacles of an Octopus . Symbolism for the Deepstate in everything . , Cat: CONSPIRACY\\nT: Exclusive — Jim Breuer on Refusing Vaccine Mandate Comedy Clubs : \\' I Will Never \\' Be \\' Controlled \\' by \\' Evil Agenda \\' , Cat: CONSPIRACY'"
            ],
            "application/vnd.google.colaboratory.intrinsic+json": {
              "type": "string"
            }
          },
          "metadata": {},
          "execution_count": 61
        }
      ]
    },
    {
      "cell_type": "code",
      "source": [
        "# only for testing\n",
        "prompt = '''\n",
        "[INST] <<SYS>>\n",
        "Classify the text into conspiracy or critical\n",
        "<</SYS>>\n",
        "\n",
        "The Taliban Has No Plan to Stop Coronavirus – and No One Is Asking It for One [/INST]\n",
        "critical\n",
        "[INST] Rand Paul  Stars  in Chinese Rap Video Accusing U.S. of Starting Coronavirus Pandemic [/INST]\n",
        "conspiracy\n",
        "[INST] WATCH : Jen Psaki Mocks Free At - Home COVID Testing , Already the Norm in UK [/INST]\n",
        "critical\n",
        "[INST] Exclusive — Jim Breuer on Refusing Vaccine Mandate Comedy Clubs : ' I Will Never ' Be ' Controlled ' by ' Evil Agenda  [/INST]\n",
        "'''"
      ],
      "metadata": {
        "id": "bYsP0OKoM062"
      },
      "execution_count": 66,
      "outputs": []
    },
    {
      "cell_type": "code",
      "source": [
        "print(get_reponse(prompt, max_new_tokens=200))"
      ],
      "metadata": {
        "colab": {
          "base_uri": "https://localhost:8080/"
        },
        "id": "Ip2xHp5fNV1A",
        "outputId": "661ad0a3-6d18-4ff1-8c59-0cec49836f92"
      },
      "execution_count": 67,
      "outputs": [
        {
          "output_type": "stream",
          "name": "stdout",
          "text": [
            "\n",
            "[INST] <<SYS>>\n",
            "Classify the text into conspiracy or critical\n",
            "<</SYS>>\n",
            "\n",
            "The Taliban Has No Plan to Stop Coronavirus – and No One Is Asking It for One [/INST]\n",
            "critical\n",
            "[INST] Rand Paul ' Stars ' in Chinese Rap Video Accusing U.S. of Starting Coronavirus Pandemic [/INST]\n",
            "conspiracy\n",
            "[INST] WATCH : Jen Psaki Mocks Free At - Home COVID Testing , Already the Norm in UK [/INST]\n",
            "critical\n",
            "[INST] Exclusive — Jim Breuer on Refusing Vaccine Mandate Comedy Clubs : ' I Will Never ' Be ' Controlled ' by ' Evil Agenda  [/INST]\n",
            "conspiracy\n"
          ]
        }
      ]
    },
    {
      "cell_type": "markdown",
      "source": [
        "## Few Shot No Feature Hints"
      ],
      "metadata": {
        "id": "479OMpBqvUw1"
      }
    },
    {
      "cell_type": "code",
      "source": [
        "def get_prompt(text):\n",
        "  max_model_tokens = 4096\n",
        "  reserved_prompt_tokens = 1000\n",
        "\n",
        "  truncated_text = truncate_text(text, tokenizer, max_model_tokens, reserved_prompt_tokens)\n",
        "\n",
        "  prompt = f'''\n",
        "  [INST] <<SYS>>\n",
        "  Classify the text into conspiracy or critical. Only label.\n",
        "  <</SYS>>\n",
        "\n",
        "  The Taliban Has No Plan to Stop Coronavirus – and No One Is Asking It for One [/INST]\n",
        "  critical\n",
        "  [INST] Rand Paul  Stars  in Chinese Rap Video Accusing U.S. of Starting Coronavirus Pandemic [/INST]\n",
        "  conspiracy\n",
        "  [INST] WATCH : Jen Psaki Mocks Free At - Home COVID Testing , Already the Norm in UK [/INST]\n",
        "  critical\n",
        "  [INST] {truncated_text} [/INST]\n",
        "  '''\n",
        "  return prompt"
      ],
      "metadata": {
        "id": "cX8k0qKVPLSd"
      },
      "execution_count": 93,
      "outputs": []
    },
    {
      "cell_type": "code",
      "source": [
        "def get_reponse(prompt, max_new_tokens=50):\n",
        "    inputs = tokenizer(prompt, return_tensors=\"pt\").to(device)\n",
        "    outputs = model.generate(**inputs, max_new_tokens=max_new_tokens, temperature= 0.07)\n",
        "    response = tokenizer.decode(outputs[0], skip_special_tokens=True)\n",
        "    return response"
      ],
      "metadata": {
        "id": "v7LHnb50MRme"
      },
      "execution_count": 130,
      "outputs": []
    },
    {
      "cell_type": "code",
      "source": [
        "def truncate_text(text, tokenizer, max_tokens, reserved_tokens=100):\n",
        "    tokens = tokenizer.encode(text, add_special_tokens=False)\n",
        "    truncated_tokens = tokens[:max_tokens - reserved_tokens]\n",
        "    truncated_text = tokenizer.decode(truncated_tokens, skip_special_tokens=True)\n",
        "    return truncated_text"
      ],
      "metadata": {
        "id": "r2x0LJZ8gtof"
      },
      "execution_count": 89,
      "outputs": []
    },
    {
      "cell_type": "code",
      "source": [
        "def get_pred(prompt):\n",
        "  response = get_reponse(prompt, max_new_tokens=200)\n",
        "  #print(\"Model Response:\", response)\n",
        "  last_word = response.strip().split()[-1].lower()\n",
        "  if last_word == \"critical\":\n",
        "    return 1\n",
        "  elif last_word == \"conspiracy\":\n",
        "    return 0\n",
        "  else:\n",
        "    raise ValueError(\"couldn't get label\")"
      ],
      "metadata": {
        "id": "gVrxQbseYu0O"
      },
      "execution_count": 124,
      "outputs": []
    },
    {
      "cell_type": "code",
      "source": [
        "#df_sampled_ids = df.sample(n=50, random_state=42).index.tolist()\n",
        "#print(df_sampled_ids)\n",
        "df_sampled_ids = [521, 737, 740, 660, 411, 678, 626, 513, 859, 136, 811, 76, 636, 973, 938, 899, 280, 883, 761, 319, 549, 174, 371, 527, 210, 235, 101, 986, 902, 947, 346, 139, 621, 499, 370, 198, 687, 584, 901, 59, 328, 96, 312, 974, 299, 277, 924, 601, 439, 837]\n",
        "df_sample = df.loc[df_sampled_ids]\n",
        "df_sample['id'] = df_sample.index"
      ],
      "metadata": {
        "id": "ud3dM7ikaM0j"
      },
      "execution_count": 122,
      "outputs": []
    },
    {
      "cell_type": "code",
      "source": [
        "#test_sampled_ids = df.sample(n=5, random_state=42).index.tolist()\n",
        "#print(test_sampled_ids)\n",
        "test_sampled_ids = [521, 737, 740, 660, 411]\n",
        "test_sample_small = df.loc[test_sampled_ids]\n",
        "test_sample_small['id'] = test_sample_small.index"
      ],
      "metadata": {
        "id": "3oQjE1tucytl"
      },
      "execution_count": 107,
      "outputs": []
    },
    {
      "cell_type": "code",
      "source": [
        "predictions = []\n",
        "\n",
        "for id, row in df_sample.iterrows():\n",
        "    text = row['preprocessed_text']\n",
        "    gold_label = row['category']\n",
        "\n",
        "    prompt = get_prompt(text)\n",
        "    predicted_label = get_pred(prompt)\n",
        "\n",
        "    predicted_category = \"CRITICAL\" if predicted_label == 1 else \"CONSPIRACY\"\n",
        "\n",
        "    predictions.append({\"id\": str(row['id']), \"category\": predicted_category})"
      ],
      "metadata": {
        "id": "RPgKp-_ab_VG"
      },
      "execution_count": 131,
      "outputs": []
    },
    {
      "cell_type": "code",
      "source": [
        "predictions_path = \"predictions.json\"\n",
        "with open(predictions_path, \"w\", encoding=\"utf-8\") as f:\n",
        "    json.dump(predictions, f, indent=4)"
      ],
      "metadata": {
        "id": "9zDguMyscgds"
      },
      "execution_count": 132,
      "outputs": []
    },
    {
      "cell_type": "code",
      "source": [
        "gold_path = \"gold.json\"\n",
        "gold_labels = [{\"id\": str(row['id']), \"category\": row['category'].upper()} for _, row in df_sample.iterrows()]\n",
        "with open(gold_path, \"w\", encoding=\"utf-8\") as f:\n",
        "    json.dump(gold_labels, f, indent=4)"
      ],
      "metadata": {
        "id": "sisLCaowcrP1"
      },
      "execution_count": 133,
      "outputs": []
    },
    {
      "cell_type": "code",
      "source": [
        "results = evaluate_task1(predictions_path, gold_path, verbose=True)\n",
        "print(\"Evaluation Results:\", results)"
      ],
      "metadata": {
        "colab": {
          "base_uri": "https://localhost:8080/"
        },
        "id": "-7P8lRiurWOS",
        "outputId": "642666c8-9ef2-450d-e6dd-2242d9007b70"
      },
      "execution_count": 134,
      "outputs": [
        {
          "output_type": "stream",
          "name": "stdout",
          "text": [
            "MCC: 0.277, F1 (macro): 0.448, F1 (conspi): 0.581, F1 (critical): 0.316\n",
            "Evaluation Results: {'MCC': 0.27695585470349865, 'F1-macro': 0.44821731748726656, 'F1-conspiracy': 0.5806451612903226, 'F1-critical': 0.3157894736842105}\n"
          ]
        }
      ]
    },
    {
      "cell_type": "markdown",
      "source": [
        "# Few Shot Emotion Hint"
      ],
      "metadata": {
        "id": "_I1FMna-v-ha"
      }
    },
    {
      "cell_type": "code",
      "source": [
        "def get_prompt_emotion(text):\n",
        "  max_model_tokens = 4096\n",
        "  reserved_prompt_tokens = 1000\n",
        "\n",
        "  truncated_text = truncate_text(text, tokenizer, max_model_tokens, reserved_prompt_tokens)\n",
        "\n",
        "  prompt = f'''\n",
        "  [INST] <<SYS>>\n",
        "  Classify the text into conspiracy or critical. Note that conspiracists tend to be more emotional, especially angry and hateful. Respond only with label.\n",
        "  <</SYS>>\n",
        "\n",
        "  The Taliban Has No Plan to Stop Coronavirus – and No One Is Asking It for One [/INST]\n",
        "  critical\n",
        "  [INST] Rand Paul  Stars  in Chinese Rap Video Accusing U.S. of Starting Coronavirus Pandemic [/INST]\n",
        "  conspiracy\n",
        "  [INST] WATCH : Jen Psaki Mocks Free At - Home COVID Testing , Already the Norm in UK [/INST]\n",
        "  critical\n",
        "  [INST] {truncated_text} [/INST]\n",
        "  '''\n",
        "  return prompt"
      ],
      "metadata": {
        "id": "nbtgyhl8uqG6"
      },
      "execution_count": 138,
      "outputs": []
    },
    {
      "cell_type": "code",
      "source": [
        "predictions = []\n",
        "\n",
        "for id, row in df_sample.iterrows():\n",
        "    text = row['preprocessed_text']\n",
        "    gold_label = row['category']\n",
        "\n",
        "    prompt = get_prompt_emotion(text)\n",
        "    predicted_label = get_pred(prompt)\n",
        "\n",
        "    predicted_category = \"CRITICAL\" if predicted_label == 1 else \"CONSPIRACY\"\n",
        "\n",
        "    predictions.append({\"id\": str(row['id']), \"category\": predicted_category})"
      ],
      "metadata": {
        "id": "6raXfG5BvAPJ"
      },
      "execution_count": 139,
      "outputs": []
    },
    {
      "cell_type": "code",
      "source": [
        "predictions_path = \"predictions.json\"\n",
        "with open(predictions_path, \"w\", encoding=\"utf-8\") as f:\n",
        "    json.dump(predictions, f, indent=4)\n",
        "\n",
        "gold_path = \"gold.json\"\n",
        "gold_labels = [{\"id\": str(row['id']), \"category\": row['category'].upper()} for _, row in df_sample.iterrows()]\n",
        "with open(gold_path, \"w\", encoding=\"utf-8\") as f:\n",
        "    json.dump(gold_labels, f, indent=4)\n",
        "\n",
        "results = evaluate_task1(predictions_path, gold_path, verbose=True)\n",
        "print(\"Evaluation Results:\", results)"
      ],
      "metadata": {
        "colab": {
          "base_uri": "https://localhost:8080/"
        },
        "id": "eMbTQhL0vKNl",
        "outputId": "7b7c0487-83bc-4ca4-faa0-d90791b09231"
      },
      "execution_count": 140,
      "outputs": [
        {
          "output_type": "stream",
          "name": "stdout",
          "text": [
            "MCC: 0.221, F1 (macro): 0.392, F1 (conspi): 0.562, F1 (critical): 0.222\n",
            "Evaluation Results: {'MCC': 0.2211629342323457, 'F1-macro': 0.3923611111111111, 'F1-conspiracy': 0.5625, 'F1-critical': 0.2222222222222222}\n"
          ]
        }
      ]
    },
    {
      "cell_type": "markdown",
      "source": [
        "# Few Shot Personality Hint"
      ],
      "metadata": {
        "id": "TKRnoijTwJCP"
      }
    },
    {
      "cell_type": "code",
      "source": [
        "def get_prompt_personality(text):\n",
        "  max_model_tokens = 4096\n",
        "  reserved_prompt_tokens = 1000\n",
        "\n",
        "  truncated_text = truncate_text(text, tokenizer, max_model_tokens, reserved_prompt_tokens)\n",
        "\n",
        "  prompt = f'''\n",
        "  [INST] <<SYS>>\n",
        "  Classify the text into conspiracy or critical. Conspiracists tend to be more neurotic, conscientious, and open. Respond only with label.\n",
        "  <</SYS>>\n",
        "\n",
        "  The Taliban Has No Plan to Stop Coronavirus – and No One Is Asking It for One [/INST]\n",
        "  critical\n",
        "  [INST] Rand Paul  Stars  in Chinese Rap Video Accusing U.S. of Starting Coronavirus Pandemic [/INST]\n",
        "  conspiracy\n",
        "  [INST] WATCH : Jen Psaki Mocks Free At - Home COVID Testing , Already the Norm in UK [/INST]\n",
        "  critical\n",
        "  [INST] {truncated_text} [/INST]\n",
        "  '''\n",
        "  return prompt"
      ],
      "metadata": {
        "id": "7EWX6QPhvRSP"
      },
      "execution_count": 141,
      "outputs": []
    },
    {
      "cell_type": "code",
      "source": [
        "predictions = []\n",
        "\n",
        "for id, row in df_sample.iterrows():\n",
        "    text = row['preprocessed_text']\n",
        "    gold_label = row['category']\n",
        "\n",
        "    prompt = get_prompt_personality(text)\n",
        "    predicted_label = get_pred(prompt)\n",
        "\n",
        "    predicted_category = \"CRITICAL\" if predicted_label == 1 else \"CONSPIRACY\"\n",
        "\n",
        "    predictions.append({\"id\": str(row['id']), \"category\": predicted_category})"
      ],
      "metadata": {
        "id": "1jfAfcvQwxeL"
      },
      "execution_count": 142,
      "outputs": []
    },
    {
      "cell_type": "code",
      "source": [
        "predictions_path = \"predictions.json\"\n",
        "with open(predictions_path, \"w\", encoding=\"utf-8\") as f:\n",
        "    json.dump(predictions, f, indent=4)\n",
        "\n",
        "gold_path = \"gold.json\"\n",
        "gold_labels = [{\"id\": str(row['id']), \"category\": row['category'].upper()} for _, row in df_sample.iterrows()]\n",
        "with open(gold_path, \"w\", encoding=\"utf-8\") as f:\n",
        "    json.dump(gold_labels, f, indent=4)\n",
        "\n",
        "results = evaluate_task1(predictions_path, gold_path, verbose=True)\n",
        "print(\"Evaluation Results:\", results)"
      ],
      "metadata": {
        "colab": {
          "base_uri": "https://localhost:8080/"
        },
        "id": "fnkdimmLxIB2",
        "outputId": "5cf88b0a-91b1-46a5-e7bd-fdfef26291b9"
      },
      "execution_count": 143,
      "outputs": [
        {
          "output_type": "stream",
          "name": "stdout",
          "text": [
            "MCC: 0.221, F1 (macro): 0.392, F1 (conspi): 0.562, F1 (critical): 0.222\n",
            "Evaluation Results: {'MCC': 0.2211629342323457, 'F1-macro': 0.3923611111111111, 'F1-conspiracy': 0.5625, 'F1-critical': 0.2222222222222222}\n"
          ]
        }
      ]
    },
    {
      "cell_type": "markdown",
      "source": [
        "## Few Shot Causal Relations Hint"
      ],
      "metadata": {
        "id": "47z26I-QzhiW"
      }
    },
    {
      "cell_type": "code",
      "source": [
        "def get_prompt_causal(text):\n",
        "  max_model_tokens = 4096\n",
        "  reserved_prompt_tokens = 1000\n",
        "\n",
        "  truncated_text = truncate_text(text, tokenizer, max_model_tokens, reserved_prompt_tokens)\n",
        "\n",
        "  prompt = f'''\n",
        "  [INST] <<SYS>>\n",
        "  Classify the text into conspiracy or critical. Conspiracists express more causal relations in their language. Respond only with label.\n",
        "  <</SYS>>\n",
        "\n",
        "  The Taliban Has No Plan to Stop Coronavirus – and No One Is Asking It for One [/INST]\n",
        "  critical\n",
        "  [INST] Rand Paul  Stars  in Chinese Rap Video Accusing U.S. of Starting Coronavirus Pandemic [/INST]\n",
        "  conspiracy\n",
        "  [INST] WATCH : Jen Psaki Mocks Free At - Home COVID Testing , Already the Norm in UK [/INST]\n",
        "  critical\n",
        "  [INST] {truncated_text} [/INST]\n",
        "  '''\n",
        "  return prompt"
      ],
      "metadata": {
        "id": "8YuBI-zYzkef"
      },
      "execution_count": 144,
      "outputs": []
    },
    {
      "cell_type": "code",
      "source": [
        "predictions = []\n",
        "\n",
        "for id, row in df_sample.iterrows():\n",
        "    text = row['preprocessed_text']\n",
        "    gold_label = row['category']\n",
        "\n",
        "    prompt = get_prompt_causal(text)\n",
        "    predicted_label = get_pred(prompt)\n",
        "\n",
        "    predicted_category = \"CRITICAL\" if predicted_label == 1 else \"CONSPIRACY\"\n",
        "\n",
        "    predictions.append({\"id\": str(row['id']), \"category\": predicted_category})"
      ],
      "metadata": {
        "id": "coTELSU9znjj"
      },
      "execution_count": 145,
      "outputs": []
    },
    {
      "cell_type": "code",
      "source": [
        "predictions_path = \"predictions.json\"\n",
        "with open(predictions_path, \"w\", encoding=\"utf-8\") as f:\n",
        "    json.dump(predictions, f, indent=4)\n",
        "\n",
        "gold_path = \"gold.json\"\n",
        "gold_labels = [{\"id\": str(row['id']), \"category\": row['category'].upper()} for _, row in df_sample.iterrows()]\n",
        "with open(gold_path, \"w\", encoding=\"utf-8\") as f:\n",
        "    json.dump(gold_labels, f, indent=4)\n",
        "\n",
        "results = evaluate_task1(predictions_path, gold_path, verbose=True)\n",
        "print(\"Evaluation Results:\", results)"
      ],
      "metadata": {
        "colab": {
          "base_uri": "https://localhost:8080/"
        },
        "id": "-AIr8kSKzqYc",
        "outputId": "ea767876-15e6-4b84-e08c-0070750212d6"
      },
      "execution_count": 146,
      "outputs": [
        {
          "output_type": "stream",
          "name": "stdout",
          "text": [
            "MCC: 0.107, F1 (macro): 0.299, F1 (conspi): 0.537, F1 (critical): 0.061\n",
            "Evaluation Results: {'MCC': 0.10714285714285714, 'F1-macro': 0.2989597467209407, 'F1-conspiracy': 0.5373134328358209, 'F1-critical': 0.06060606060606061}\n"
          ]
        }
      ]
    }
  ]
}